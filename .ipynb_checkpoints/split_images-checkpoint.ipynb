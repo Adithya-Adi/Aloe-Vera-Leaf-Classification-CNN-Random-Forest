{
 "cells": [
  {
   "cell_type": "code",
   "execution_count": 6,
   "id": "5ba6dcdf-16f0-4ac3-a277-f77122881e6f",
   "metadata": {},
   "outputs": [
    {
     "name": "stderr",
     "output_type": "stream",
     "text": [
      "Copying files: 1053 files [00:01, 784.33 files/s]\n"
     ]
    }
   ],
   "source": [
    "import splitfolders as split_folders # or import splitfolders\n",
    "input_folder = \"C:/Users/adith/Documents/Aloe_Vara_leaf_classification/data\"\n",
    "output = \"C:/Users/adith/Documents/Aloe_Vara_leaf_classification/test\"\n",
    "#where you want the split datasets saved. one will be created if it does not exist or none is set\n",
    "\n",
    "split_folders.ratio(input_folder, output=output, seed=42, ratio=(.8, .1, .1)) \n",
    "# ratio of split are in order of train/val/test. You can change to whatever you want. For train/val sets only, you could do .75, .25 for example."
   ]
  },
  {
   "cell_type": "code",
   "execution_count": 4,
   "id": "b950e7ac-9219-4234-b214-47498b1b3916",
   "metadata": {},
   "outputs": [
    {
     "name": "stdout",
     "output_type": "stream",
     "text": [
      "Collecting split-folders\n",
      "  Downloading split_folders-0.5.1-py3-none-any.whl (8.4 kB)\n",
      "Installing collected packages: split-folders\n",
      "Successfully installed split-folders-0.5.1\n",
      "Note: you may need to restart the kernel to use updated packages.\n"
     ]
    }
   ],
   "source": [
    "pip install split-folders"
   ]
  },
  {
   "cell_type": "code",
   "execution_count": null,
   "id": "8a12baff-1723-4c67-979c-03ca0d5e712e",
   "metadata": {},
   "outputs": [],
   "source": []
  }
 ],
 "metadata": {
  "kernelspec": {
   "display_name": "Python 3 (ipykernel)",
   "language": "python",
   "name": "python3"
  },
  "language_info": {
   "codemirror_mode": {
    "name": "ipython",
    "version": 3
   },
   "file_extension": ".py",
   "mimetype": "text/x-python",
   "name": "python",
   "nbconvert_exporter": "python",
   "pygments_lexer": "ipython3",
   "version": "3.9.16"
  }
 },
 "nbformat": 4,
 "nbformat_minor": 5
}
